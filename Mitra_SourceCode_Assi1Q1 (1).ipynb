{
 "cells": [
  {
   "cell_type": "markdown",
   "id": "ready-prisoner",
   "metadata": {},
   "source": [
    "# 5(a)"
   ]
  },
  {
   "cell_type": "code",
   "execution_count": 20,
   "id": "structural-large",
   "metadata": {},
   "outputs": [],
   "source": [
    "import numpy as np\n",
    "import statsmodels.api as sm"
   ]
  },
  {
   "cell_type": "code",
   "execution_count": 21,
   "id": "laden-pricing",
   "metadata": {},
   "outputs": [],
   "source": [
    "x = np.array([0, 1, 2, 3, 4]).reshape((-1, 1))\n",
    "y = np.array([1, 2, 3, 2, 1])\n"
   ]
  },
  {
   "cell_type": "code",
   "execution_count": 22,
   "id": "hearing-empire",
   "metadata": {},
   "outputs": [
    {
     "name": "stdout",
     "output_type": "stream",
     "text": [
      "[[0]\n",
      " [1]\n",
      " [2]\n",
      " [3]\n",
      " [4]]\n",
      "[1 2 3 2 1]\n"
     ]
    }
   ],
   "source": [
    "print(x)\n",
    "print(y)"
   ]
  },
  {
   "cell_type": "code",
   "execution_count": 30,
   "id": "dirty-simulation",
   "metadata": {},
   "outputs": [],
   "source": [
    "model_1 = sm.OLS(y, x)"
   ]
  },
  {
   "cell_type": "code",
   "execution_count": 31,
   "id": "particular-banner",
   "metadata": {},
   "outputs": [],
   "source": [
    "results = model_1.fit()"
   ]
  },
  {
   "cell_type": "code",
   "execution_count": 32,
   "id": "stainless-offset",
   "metadata": {},
   "outputs": [
    {
     "name": "stdout",
     "output_type": "stream",
     "text": [
      "                                 OLS Regression Results                                \n",
      "=======================================================================================\n",
      "Dep. Variable:                      y   R-squared (uncentered):                   0.568\n",
      "Model:                            OLS   Adj. R-squared (uncentered):              0.461\n",
      "Method:                 Least Squares   F-statistic:                              5.268\n",
      "Date:                Thu, 18 Mar 2021   Prob (F-statistic):                      0.0834\n",
      "Time:                        11:18:51   Log-Likelihood:                         -8.3314\n",
      "No. Observations:                   5   AIC:                                      18.66\n",
      "Df Residuals:                       4   BIC:                                      18.27\n",
      "Df Model:                           1                                                  \n",
      "Covariance Type:            nonrobust                                                  \n",
      "==============================================================================\n",
      "                 coef    std err          t      P>|t|      [0.025      0.975]\n",
      "------------------------------------------------------------------------------\n",
      "x1             0.6000      0.261      2.295      0.083      -0.126       1.326\n",
      "==============================================================================\n",
      "Omnibus:                          nan   Durbin-Watson:                   0.663\n",
      "Prob(Omnibus):                    nan   Jarque-Bera (JB):                0.641\n",
      "Skew:                          -0.795   Prob(JB):                        0.726\n",
      "Kurtosis:                       2.262   Cond. No.                         1.00\n",
      "==============================================================================\n",
      "\n",
      "Notes:\n",
      "[1] R² is computed without centering (uncentered) since the model does not contain a constant.\n",
      "[2] Standard Errors assume that the covariance matrix of the errors is correctly specified.\n"
     ]
    },
    {
     "name": "stderr",
     "output_type": "stream",
     "text": [
      "C:\\Users\\Dell-672206\\Anaconda3\\envs\\stat\\lib\\site-packages\\statsmodels\\stats\\stattools.py:74: ValueWarning: omni_normtest is not valid with less than 8 observations; 5 samples were given.\n",
      "  warn(\"omni_normtest is not valid with less than 8 observations; %i \"\n"
     ]
    }
   ],
   "source": [
    "print(results.summary())"
   ]
  },
  {
   "cell_type": "code",
   "execution_count": 33,
   "id": "expressed-tongue",
   "metadata": {},
   "outputs": [],
   "source": [
    "x_new = sm.add_constant(x)"
   ]
  },
  {
   "cell_type": "code",
   "execution_count": 34,
   "id": "fluid-breed",
   "metadata": {},
   "outputs": [
    {
     "name": "stdout",
     "output_type": "stream",
     "text": [
      "[[1. 0.]\n",
      " [1. 1.]\n",
      " [1. 2.]\n",
      " [1. 3.]\n",
      " [1. 4.]]\n"
     ]
    }
   ],
   "source": [
    "print(x_new)"
   ]
  },
  {
   "cell_type": "code",
   "execution_count": 35,
   "id": "blessed-speaker",
   "metadata": {},
   "outputs": [],
   "source": [
    "model_2 = sm.OLS(y, x_new)"
   ]
  },
  {
   "cell_type": "code",
   "execution_count": 36,
   "id": "sensitive-peripheral",
   "metadata": {},
   "outputs": [],
   "source": [
    "results_2 = model_2.fit()"
   ]
  },
  {
   "cell_type": "code",
   "execution_count": 37,
   "id": "adjacent-multimedia",
   "metadata": {},
   "outputs": [
    {
     "name": "stdout",
     "output_type": "stream",
     "text": [
      "                            OLS Regression Results                            \n",
      "==============================================================================\n",
      "Dep. Variable:                      y   R-squared:                       0.000\n",
      "Model:                            OLS   Adj. R-squared:                 -0.333\n",
      "Method:                 Least Squares   F-statistic:                 4.758e-16\n",
      "Date:                Thu, 18 Mar 2021   Prob (F-statistic):               1.00\n",
      "Time:                        11:19:54   Log-Likelihood:                -5.6451\n",
      "No. Observations:                   5   AIC:                             15.29\n",
      "Df Residuals:                       3   BIC:                             14.51\n",
      "Df Model:                           1                                         \n",
      "Covariance Type:            nonrobust                                         \n",
      "==============================================================================\n",
      "                 coef    std err          t      P>|t|      [0.025      0.975]\n",
      "------------------------------------------------------------------------------\n",
      "const          1.8000      0.748      2.405      0.095      -0.582       4.182\n",
      "x1                  0      0.306          0      1.000      -0.972       0.972\n",
      "==============================================================================\n",
      "Omnibus:                          nan   Durbin-Watson:                   1.429\n",
      "Prob(Omnibus):                    nan   Jarque-Bera (JB):                0.375\n",
      "Skew:                           0.344   Prob(JB):                        0.829\n",
      "Kurtosis:                       1.847   Cond. No.                         4.74\n",
      "==============================================================================\n",
      "\n",
      "Notes:\n",
      "[1] Standard Errors assume that the covariance matrix of the errors is correctly specified.\n"
     ]
    },
    {
     "name": "stderr",
     "output_type": "stream",
     "text": [
      "C:\\Users\\Dell-672206\\Anaconda3\\envs\\stat\\lib\\site-packages\\statsmodels\\stats\\stattools.py:74: ValueWarning: omni_normtest is not valid with less than 8 observations; 5 samples were given.\n",
      "  warn(\"omni_normtest is not valid with less than 8 observations; %i \"\n"
     ]
    }
   ],
   "source": [
    "print(results_2.summary())"
   ]
  },
  {
   "cell_type": "code",
   "execution_count": 38,
   "id": "vulnerable-puppy",
   "metadata": {},
   "outputs": [
    {
     "name": "stdout",
     "output_type": "stream",
     "text": [
      "regression coefficients: [1.8 0. ]\n"
     ]
    }
   ],
   "source": [
    "print('regression coefficients:', results_2.params)"
   ]
  },
  {
   "cell_type": "code",
   "execution_count": 42,
   "id": "radio-portable",
   "metadata": {},
   "outputs": [
    {
     "name": "stdout",
     "output_type": "stream",
     "text": [
      "regression coefficients: [0.6]\n"
     ]
    }
   ],
   "source": [
    "print('regression coefficients:', results.params)"
   ]
  },
  {
   "cell_type": "markdown",
   "id": "adjacent-pizza",
   "metadata": {},
   "source": [
    "# 5b"
   ]
  },
  {
   "cell_type": "code",
   "execution_count": 113,
   "id": "beneficial-belle",
   "metadata": {},
   "outputs": [],
   "source": [
    "# Given values\n",
    "Y_true = np.array([1.0,2.0,3.0,2.0,1.0]).reshape((-1, 1))"
   ]
  },
  {
   "cell_type": "code",
   "execution_count": 114,
   "id": "acceptable-nicaragua",
   "metadata": {},
   "outputs": [],
   "source": [
    "# Calculated values for model1\n",
    "Y_pred_m1 =np.array([0,1,1.2,1.8,2.4])"
   ]
  },
  {
   "cell_type": "code",
   "execution_count": 115,
   "id": "skilled-elevation",
   "metadata": {},
   "outputs": [],
   "source": [
    "# Mean Squared Error for model1\n",
    "MSE_m1 = np.square(np.subtract(Y_true,Y_pred_m1)).mean() "
   ]
  },
  {
   "cell_type": "code",
   "execution_count": 116,
   "id": "built-population",
   "metadata": {},
   "outputs": [
    {
     "name": "stdout",
     "output_type": "stream",
     "text": [
      "1.48\n"
     ]
    }
   ],
   "source": [
    "print(MSE_m1)"
   ]
  },
  {
   "cell_type": "code",
   "execution_count": 117,
   "id": "presidential-dakota",
   "metadata": {},
   "outputs": [],
   "source": [
    "# Calculated values for model2\n",
    "Y_pred_m2 = np.array([1.8,1.8,1.8,1.8,1.8])"
   ]
  },
  {
   "cell_type": "code",
   "execution_count": 118,
   "id": "threatened-marketplace",
   "metadata": {},
   "outputs": [],
   "source": [
    "# Mean Squared Error for model2\n",
    "MSE_m2 = np.square(np.subtract(Y_true,Y_pred_m2)).mean() "
   ]
  },
  {
   "cell_type": "code",
   "execution_count": 119,
   "id": "unlike-quarterly",
   "metadata": {},
   "outputs": [
    {
     "name": "stdout",
     "output_type": "stream",
     "text": [
      "0.56\n"
     ]
    }
   ],
   "source": [
    "print(MSE_m2)"
   ]
  },
  {
   "cell_type": "code",
   "execution_count": 120,
   "id": "dress-little",
   "metadata": {},
   "outputs": [],
   "source": [
    "from sklearn import metrics"
   ]
  },
  {
   "cell_type": "code",
   "execution_count": 121,
   "id": "temporal-walker",
   "metadata": {},
   "outputs": [
    {
     "name": "stdout",
     "output_type": "stream",
     "text": [
      "1.08\n"
     ]
    }
   ],
   "source": [
    "#Mean Absolute Error for model 1\n",
    "print(metrics.mean_absolute_error(Y_true,Y_pred_m1))"
   ]
  },
  {
   "cell_type": "code",
   "execution_count": 122,
   "id": "bizarre-cancer",
   "metadata": {},
   "outputs": [
    {
     "name": "stdout",
     "output_type": "stream",
     "text": [
      "0.64\n"
     ]
    }
   ],
   "source": [
    "#Mean Absolute Error for model 2\n",
    "print(metrics.mean_absolute_error(Y_true,Y_pred_m2))"
   ]
  },
  {
   "cell_type": "markdown",
   "id": "animal-session",
   "metadata": {},
   "source": []
  },
  {
   "cell_type": "code",
   "execution_count": 139,
   "id": "silent-aluminum",
   "metadata": {},
   "outputs": [
    {
     "name": "stdout",
     "output_type": "stream",
     "text": [
      "The L1.5 Error for model1 is:  (0.9008792269599528-0.3313004678535785j)\n"
     ]
    }
   ],
   "source": [
    "y = [1.0,2.0,3.0,2.0,1.0]\n",
    "y_pre_m1 = [0,1,1.2,1.8,2.4]\n",
    "summation = 0\n",
    "n = len(y)\n",
    "for i in range (0,n):\n",
    "  difference = y[i] - y_pre_m1[i] \n",
    "  powered_difference = difference**1.5  #taking 1.5powered of the differene \n",
    "  summation = summation + powered_difference\n",
    "powerederror1 = summation/n  #dividing summation by total values to obtain average\n",
    "print (\"The L1.5 Error for model1 is: \" , powerederror1)"
   ]
  },
  {
   "cell_type": "code",
   "execution_count": 138,
   "id": "split-extension",
   "metadata": {},
   "outputs": [
    {
     "name": "stdout",
     "output_type": "stream",
     "text": [
      "The L1.5 Error for model2 is:  (0.29868391524247623-0.2862167011199731j)\n"
     ]
    }
   ],
   "source": [
    "y = [1.0,2.0,3.0,2.0,1.0]\n",
    "y_pre_m2 = [1.8,1.8,1.8,1.8,1.8]\n",
    "summation = 0 \n",
    "n = len(y) \n",
    "for i in range (0,n):\n",
    "  difference = y[i] - y_pre_m2[i] \n",
    "  powered_difference = difference**1.5  #taking 1.5powered of the differene \n",
    "  summation = summation + powered_difference \n",
    "powerederror2 = summation/n  \n",
    "print (\"The L1.5 Error for model2 is: \" , powerederror2)"
   ]
  },
  {
   "cell_type": "code",
   "execution_count": null,
   "id": "permanent-brown",
   "metadata": {},
   "outputs": [],
   "source": []
  }
 ],
 "metadata": {
  "kernelspec": {
   "display_name": "Python 3",
   "language": "python",
   "name": "python3"
  },
  "language_info": {
   "codemirror_mode": {
    "name": "ipython",
    "version": 3
   },
   "file_extension": ".py",
   "mimetype": "text/x-python",
   "name": "python",
   "nbconvert_exporter": "python",
   "pygments_lexer": "ipython3",
   "version": "3.9.2"
  }
 },
 "nbformat": 4,
 "nbformat_minor": 5
}
