{
 "cells": [
  {
   "cell_type": "code",
   "execution_count": null,
   "metadata": {},
   "outputs": [],
   "source": []
  },
  {
   "cell_type": "code",
   "execution_count": 16,
   "metadata": {},
   "outputs": [],
   "source": [
    "import numpy as np"
   ]
  },
  {
   "cell_type": "code",
   "execution_count": 20,
   "metadata": {},
   "outputs": [],
   "source": [
    "def f(x,y):\n",
    "    if(0>=x<=1 and y==0.2403):\n",
    "        return 1\n",
    "    else:\n",
    "        return 0"
   ]
  },
  {
   "cell_type": "code",
   "execution_count": 21,
   "metadata": {},
   "outputs": [],
   "source": [
    "N = 1000\n",
    "ell = np.zeros(N) # [0,0,...0]"
   ]
  },
  {
   "cell_type": "code",
   "execution_count": 22,
   "metadata": {},
   "outputs": [
    {
     "name": "stdout",
     "output_type": "stream",
     "text": [
      "mean =  0.0 CI = ( 0.0 ,  0.0 )\n"
     ]
    }
   ],
   "source": [
    "for i in range(0,N):\n",
    "    X = np.random.uniform(0,1)\n",
    "    Y = np.random.uniform(0,1)\n",
    "\n",
    "    ell[i] = f(X,Y) \n",
    "# ell 1000 elements: [0,1,...]\n",
    "    \n",
    "ell_mean = np.mean(ell)\n",
    "ell_std = np.std(ell)\n",
    "\n",
    "print(\"mean = \",ell_mean, \"CI = (\", ell_mean-1.96*ell_std/N**0.5 , \", \", ell_mean+1.96*ell_std/N**0.5,\")\")"
   ]
  },
  {
   "cell_type": "code",
   "execution_count": null,
   "metadata": {},
   "outputs": [],
   "source": []
  },
  {
   "cell_type": "code",
   "execution_count": null,
   "metadata": {},
   "outputs": [],
   "source": []
  }
 ],
 "metadata": {
  "kernelspec": {
   "display_name": "Python 3",
   "language": "python",
   "name": "python3"
  },
  "language_info": {
   "codemirror_mode": {
    "name": "ipython",
    "version": 3
   },
   "file_extension": ".py",
   "mimetype": "text/x-python",
   "name": "python",
   "nbconvert_exporter": "python",
   "pygments_lexer": "ipython3",
   "version": "3.9.2"
  }
 },
 "nbformat": 4,
 "nbformat_minor": 4
}
